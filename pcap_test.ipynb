{
 "cells": [
  {
   "cell_type": "code",
   "execution_count": null,
   "metadata": {},
   "outputs": [],
   "source": [
    "import velodyne_decoder as vd\n",
    "import pandas as pd\n",
    "import numpy as np\n",
    "\n",
    "from Transformation import *\n",
    "from datetime import datetime\n",
    "# no scientific notation in jupyter nb\n",
    "np.set_printoptions(suppress=True,   precision=10,  threshold=2000,  linewidth=150)  \n",
    "pd.set_option('display.float_format',lambda x : '%.6f' % x)\n"
   ]
  },
  {
   "cell_type": "code",
   "execution_count": null,
   "metadata": {},
   "outputs": [],
   "source": [
    "# def utc_to_weekseconds(utc_timestamp,leapseconds):\n",
    "#     \"\"\" Returns the GPS week, the GPS day, and the seconds\n",
    "#         and microseconds since the beginning of the GPS week\n",
    "#         https://stackoverflow.com/questions/45422739/gps-time-in-weeks-since-epoch-in-python\n",
    "#     \"\"\"\n",
    "#     import datetime, calendar\n",
    "#     utc = datetime.datetime.fromtimestamp(utc_timestamp)\n",
    "#     datetimeformat = \"%Y-%m-%d %H:%M:%S\"\n",
    "#     epoch = datetime.datetime.strptime(\"1980-01-06 00:00:00\",datetimeformat)\n",
    "#     tdiff = utc -epoch  + datetime.timedelta(seconds=leapseconds)\n",
    "#     gpsweek = tdiff.days // 7\n",
    "#     gpsdays = tdiff.days - 7*gpsweek\n",
    "#     gpsseconds = tdiff.seconds + 86400* (tdiff.days -7*gpsweek)\n",
    "#     return gpsweek, gpsdays, gpsseconds, tdiff.microseconds, gpsseconds+(tdiff.microseconds / 10**6)"
   ]
  },
  {
   "cell_type": "code",
   "execution_count": null,
   "metadata": {},
   "outputs": [],
   "source": [
    "# Read the PCAP file and extract the UNIX timestamp\n",
    "pcap_file = '../data/2022-07-13-15-49-46_Velodyne-HDL-64-Data (Frame 0 to 100).pcap'\n",
    "config = vd.Config(model='HDL-64E', rpm=600, min_range=3.5, max_range=85)\n",
    "cloud_arrays = []\n",
    "timestamp = []\n",
    "for stamp, points in vd.read_pcap(pcap_file, config=config):\n",
    "    cloud_arrays.append(points)\n",
    "    timestamp.append(stamp)"
   ]
  },
  {
   "cell_type": "code",
   "execution_count": null,
   "metadata": {},
   "outputs": [],
   "source": [
    "# Convert to numpy format\n",
    "timestamp_TPE = np.array(timestamp)\n",
    "# Convert the local timezone (GMT+ 8 hour) to Greenwich Mean Time (GMT)\n",
    "timestamp_GMT = timestamp_TPE - 28800\n",
    "# test \n",
    "timestamp_GMT[0]"
   ]
  },
  {
   "cell_type": "code",
   "execution_count": null,
   "metadata": {},
   "outputs": [],
   "source": [
    "# Unix timestamp to GPS seconds \n",
    "ts = timestamp_GMT\n",
    "# Initialize a list to save the convertion data\n",
    "# Make sure the timestamp is GMT and set the leapsecond as 18\n",
    "GPS_lidar = []\n",
    "for i in ts:\n",
    "    GPS_lidar.append(utc_to_weekseconds(i, 18))\n",
    "\n",
    "# Convert to numpy format    \n",
    "GPS_lidar = np.array(GPS_lidar)\n",
    "GPS_lidar[0]\n"
   ]
  },
  {
   "cell_type": "code",
   "execution_count": null,
   "metadata": {},
   "outputs": [],
   "source": [
    "# select the GPS second column only\n",
    "GPS_second_lidar = GPS_lidar[:, 4]\n",
    "GPS_second_lidar[0]"
   ]
  },
  {
   "cell_type": "code",
   "execution_count": null,
   "metadata": {},
   "outputs": [],
   "source": [
    "# Save the GPS lidar time as csv\n",
    "header = ['UNIX','GPSsecond']\n",
    "output = np.stack((ts, GPS_second_lidar), axis=1)\n",
    "pd.DataFrame(output, columns=header).to_csv('./2022-07-13-HDL64E-timestamp.csv', index=None)\n"
   ]
  },
  {
   "cell_type": "code",
   "execution_count": null,
   "metadata": {},
   "outputs": [],
   "source": []
  },
  {
   "cell_type": "code",
   "execution_count": null,
   "metadata": {},
   "outputs": [],
   "source": [
    "# Read the RQH data as Pandas format\n",
    "nav = pd.read_csv('../data/20220713_Highways_RQH_TC.txt',\n",
    "                            sep =\"\\s+|\\t+|\\s+\\t+|\\t+\\s+\", engine='python',\n",
    "                            skiprows=[i for i in range(24)]+[25],   # Skip matadata(0~23) & unit(25) for IE output\n",
    "                            skipfooter=5,\n",
    "                            low_memory=True)"
   ]
  },
  {
   "cell_type": "code",
   "execution_count": null,
   "metadata": {},
   "outputs": [],
   "source": [
    "# Test the very first timestamp \n",
    "nav.head(5)"
   ]
  }
 ],
 "metadata": {
  "kernelspec": {
   "display_name": "DG-venv-3.7",
   "language": "python",
   "name": "python3"
  },
  "language_info": {
   "codemirror_mode": {
    "name": "ipython",
    "version": 3
   },
   "file_extension": ".py",
   "mimetype": "text/x-python",
   "name": "python",
   "nbconvert_exporter": "python",
   "pygments_lexer": "ipython3",
   "version": "3.7.17"
  },
  "orig_nbformat": 4
 },
 "nbformat": 4,
 "nbformat_minor": 2
}
