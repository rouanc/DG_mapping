{
 "cells": [
  {
   "cell_type": "code",
   "execution_count": null,
   "metadata": {},
   "outputs": [],
   "source": [
    "import numpy as np\n",
    "from Transformation import *\n",
    "import open3d as o3d\n",
    "import pandas as pd\n",
    "\n",
    "# test website: https://www.andre-gaschler.com/rotationconverter/"
   ]
  },
  {
   "cell_type": "code",
   "execution_count": null,
   "metadata": {},
   "outputs": [],
   "source": [
    "# test rotm to euler ZYX\n",
    "rotation_matrix = np.array([[0.0000000,  1.0000000,  0.0000000],\n",
    "                            [0.0000000,  0.0000000,  -1.0000000],\n",
    "                            [-1.0000000,  0.0000000,  0.0000000]])\n",
    "\n",
    "\n",
    "# eulAngIn = [-78.683, 47.165, -168.699]\n",
    "\n",
    "print(rotm2eulZYX(rotation_matrix))"
   ]
  },
  {
   "cell_type": "code",
   "execution_count": null,
   "metadata": {},
   "outputs": [],
   "source": [
    "# read the point cloud data to see the change\n",
    "\n",
    "bs      = [-2.61324613051471, -0.020781437591777, -1.66055748552738]\n",
    "bsRotm  = eulXYZ2rotmENU(bs)\n",
    "print(bsRotm)"
   ]
  },
  {
   "cell_type": "code",
   "execution_count": null,
   "metadata": {},
   "outputs": [],
   "source": [
    "from datetime import datetime, timedelta\n",
    "\n",
    "def unix_to_gps_time(t_unix):\n",
    "    # Unix start time\n",
    "    t_unix_start = datetime(1970, 1, 1, 0, 0, 0)\n",
    "    diff_sec = 315964800\n",
    "\n",
    "    # GPS start time\n",
    "    t_gps_start = datetime(1980, 1, 6, 0, 0, 0)\n",
    "    t_diff_sec = (t_unix_start - t_gps_start).total_seconds()\n",
    "\n",
    "    if diff_sec != t_diff_sec:\n",
    "        print('Something wrong with time difference between GPS and Unix!')\n",
    "        return\n",
    "\n",
    "    # Unix time to GPS time\n",
    "    if t_unix >= 10000000000:\n",
    "        t_gps = (t_unix / 1000000000) - t_diff_sec\n",
    "    else:\n",
    "        t_gps = t_unix - t_diff_sec\n",
    "\n",
    "    # GPS time to UTC time\n",
    "    epoch_gps = datetime(1980, 1, 6)\n",
    "    dt_utc = epoch_gps + timedelta(seconds=t_gps)\n",
    "\n",
    "    dt_utc_str = str(dt_utc)\n",
    "    split_day_str = dt_utc_str.split(' ')\n",
    "    day_number, day_name = dt_utc.weekday() + 1, split_day_str[0]\n",
    "    h, m, s = dt_utc.hour, dt_utc.minute, dt_utc.second\n",
    "\n",
    "    # UTC to GPS second of week (SOW)\n",
    "    SEC_IN_ONE_DAY = 24 * 60 * 60  # Seconds in one day\n",
    "    SEC_IN_ONE_HOUR = 60 * 60  # Seconds in one hour\n",
    "    SEC_IN_ONE_MIN = 60  # Seconds in one minute\n",
    "    GPS_LEAP_SEC = 18\n",
    "\n",
    "    # Output\n",
    "    t_gps_sow = (day_number - 1) * SEC_IN_ONE_DAY + h * SEC_IN_ONE_HOUR + m * SEC_IN_ONE_MIN + s + GPS_LEAP_SEC\n",
    "    return t_gps_sow\n"
   ]
  },
  {
   "cell_type": "code",
   "execution_count": null,
   "metadata": {},
   "outputs": [],
   "source": [
    "import math\n",
    "\n",
    "print((3600000003 / math.pow(10, 6)) % 3600)\n",
    "\n",
    "print((3600000581 / math.pow(10, 6)) % 3600)\n",
    "\n",
    "print((3600000586 / math.pow(10, 6)) % 3600)"
   ]
  },
  {
   "cell_type": "code",
   "execution_count": null,
   "metadata": {},
   "outputs": [],
   "source": [
    "import datetime\n",
    "\n",
    "t = datetime.datetime.now()\n",
    "print(t)\n",
    "print(t.hour)\n"
   ]
  },
  {
   "cell_type": "code",
   "execution_count": null,
   "metadata": {},
   "outputs": [],
   "source": [
    "import os\n",
    "import pandas as pd\n",
    "\n",
    "# Folder path\n",
    "folder_path = \"/home/irene/DG-venv-3.7/output_pcap_new/velodynevlp16/data_ascii\"\n",
    "\n",
    "# Initialize lists to store the split filenames\n",
    "frame_numbers = []\n",
    "gps_sow_values = []\n",
    "\n",
    "# Traverse the folder and sort filenames in ascending order\n",
    "\n",
    "for filename in os.listdir(folder_path):\n",
    "    if filename.endswith(\".txt\"):\n",
    "        # Split the filename into frame number and gps_sow value\n",
    "        file_parts = filename.split(\"_\")\n",
    "        frame_number = int(file_parts[0])\n",
    "        gps_sow = float(file_parts[2].split(\".\")[0] + \".\" + file_parts[2].split(\".\")[1])\n",
    "\n",
    "        # Append to the respective lists\n",
    "        frame_numbers.append(frame_number)\n",
    "        gps_sow_values.append(gps_sow)\n",
    "\n",
    "# Create a Pandas DataFrame\n",
    "data = {'frame': frame_numbers, 'gps_sow': gps_sow_values}\n",
    "df = pd.DataFrame(data)\n",
    "\n",
    "# Sort the DataFrame by the 'frame' column in ascending order\n",
    "df_sorted = df.sort_values('frame')\n",
    "\n",
    "# Reset the index of the sorted DataFrame\n",
    "df_sorted = df_sorted.reset_index(drop=True)\n",
    "\n",
    "# Update the 'frame' column to start from 0\n",
    "df_sorted['frame'] = df_sorted.index\n",
    "\n",
    "# Print the sorted DataFrame\n",
    "print(df_sorted)\n",
    "\n"
   ]
  },
  {
   "cell_type": "code",
   "execution_count": 6,
   "metadata": {},
   "outputs": [
    {
     "ename": "",
     "evalue": "",
     "output_type": "error",
     "traceback": [
      "\u001b[1;31mThe Kernel crashed while executing code in the the current cell or a previous cell. Please review the code in the cell(s) to identify a possible cause of the failure. Click <a href='https://aka.ms/vscodeJupyterKernelCrash'>here</a> for more info. View Jupyter <a href='command:jupyter.viewOutput'>log</a> for further details."
     ]
    }
   ],
   "source": [
    "# Import libraries\n",
    "import glob\n",
    "import pandas as pd\n",
    "\n",
    "# Get CSV files list from a folder\n",
    "path = '/home/irene/DG-venv-3.7/output_pcap/velodynevlp16/data_ascii'\n",
    "csv_files = glob.glob(path + \"/*.txt\")\n",
    "\n",
    "# Read each CSV file into DataFrame\n",
    "# This creates a list of dataframes\n",
    "df_list = (pd.read_csv(file) for file in csv_files)\n",
    "\n",
    "# Concatenate all DataFrames\n",
    "big_df   = pd.concat(df_list, ignore_index=True)\n",
    "\n"
   ]
  }
 ],
 "metadata": {
  "kernelspec": {
   "display_name": "HDmapping-3.9",
   "language": "python",
   "name": "python3"
  },
  "language_info": {
   "codemirror_mode": {
    "name": "ipython",
    "version": 3
   },
   "file_extension": ".py",
   "mimetype": "text/x-python",
   "name": "python",
   "nbconvert_exporter": "python",
   "pygments_lexer": "ipython3",
   "version": "3.7.17"
  },
  "orig_nbformat": 4
 },
 "nbformat": 4,
 "nbformat_minor": 2
}
